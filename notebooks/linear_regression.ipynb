{
 "cells": [
  {
   "cell_type": "code",
   "execution_count": 2,
   "id": "b737dbe6",
   "metadata": {},
   "outputs": [],
   "source": [
    "import pandas as pd\n",
    "import numpy as np\n",
    "import matplotlib.pyplot as plt\n",
    "import seaborn as sns"
   ]
  },
  {
   "cell_type": "code",
   "execution_count": null,
   "id": "86ac8f34",
   "metadata": {},
   "outputs": [
    {
     "data": {
      "text/plain": [
       "(1143, 13)"
      ]
     },
     "execution_count": 3,
     "metadata": {},
     "output_type": "execute_result"
    }
   ],
   "source": [
    "df = pd.read_csv('../data/WineQT.csv')"
   ]
  },
  {
   "cell_type": "code",
   "execution_count": 11,
   "id": "6be39210",
   "metadata": {},
   "outputs": [],
   "source": [
    "nrow = df.shape[0]\n",
    "# Here, I initialize an index to train my model on 75% of the data to test it afterward on the 25% left\n",
    "train_test_index = int(nrow * 0.75)\n",
    "\n",
    "train_df = df.iloc[:train_test_index]\n",
    "test_df = df.iloc[train_test_index:]\n"
   ]
  },
  {
   "cell_type": "code",
   "execution_count": null,
   "id": "ba06ba7b",
   "metadata": {},
   "outputs": [],
   "source": []
  }
 ],
 "metadata": {
  "kernelspec": {
   "display_name": "vision",
   "language": "python",
   "name": "python3"
  },
  "language_info": {
   "codemirror_mode": {
    "name": "ipython",
    "version": 3
   },
   "file_extension": ".py",
   "mimetype": "text/x-python",
   "name": "python",
   "nbconvert_exporter": "python",
   "pygments_lexer": "ipython3",
   "version": "3.11.11"
  }
 },
 "nbformat": 4,
 "nbformat_minor": 5
}
