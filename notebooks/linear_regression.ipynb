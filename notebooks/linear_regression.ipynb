{
 "cells": [
  {
   "cell_type": "markdown",
   "id": "bc1c9cbf",
   "metadata": {},
   "source": [
    "# Linear Regression from scratch without using sk-learn, PyTorch or TensorFlow"
   ]
  },
  {
   "cell_type": "code",
   "execution_count": 23,
   "id": "b737dbe6",
   "metadata": {},
   "outputs": [],
   "source": [
    "import pandas as pd\n",
    "import numpy as np"
   ]
  },
  {
   "cell_type": "code",
   "execution_count": 24,
   "id": "86ac8f34",
   "metadata": {},
   "outputs": [],
   "source": [
    "df = pd.read_csv('../data/WineQT.csv')\n",
    "df = df.drop('Id', axis = 1) # To drop the Id column"
   ]
  },
  {
   "cell_type": "markdown",
   "id": "cf0ab518",
   "metadata": {},
   "source": [
    "## Train-Test Split"
   ]
  },
  {
   "cell_type": "code",
   "execution_count": 25,
   "id": "6be39210",
   "metadata": {},
   "outputs": [],
   "source": [
    "nrow = df.shape[0]\n",
    "# Here, I initialize an index to train my model on 75% of the data to test it afterward on the 25% left\n",
    "train_test_index = int(nrow * 0.75)\n",
    "\n",
    "train_df = df.iloc[:train_test_index]\n",
    "test_df = df.iloc[train_test_index:]"
   ]
  },
  {
   "cell_type": "code",
   "execution_count": 26,
   "id": "ba06ba7b",
   "metadata": {},
   "outputs": [],
   "source": [
    "X_train = train_df.iloc[:,:-1]\n",
    "y_train = train_df.iloc[:,-1:]\n",
    "\n",
    "X_test = test_df.iloc[:,:-1]\n",
    "y_test = test_df.iloc[:,-1:]"
   ]
  },
  {
   "cell_type": "markdown",
   "id": "7ce3a4cb",
   "metadata": {},
   "source": [
    "## Normalize the data"
   ]
  },
  {
   "cell_type": "code",
   "execution_count": 27,
   "id": "dbdc9654",
   "metadata": {},
   "outputs": [],
   "source": [
    "mean = X_train.mean(axis=0)\n",
    "std = X_train.std(axis=0)\n",
    "\n",
    "X_train_norm = (X_train - mean) / std\n",
    "X_test_norm = (X_test - mean) / std\n"
   ]
  },
  {
   "cell_type": "markdown",
   "id": "9f3a7eb1",
   "metadata": {},
   "source": [
    "## Train the model"
   ]
  },
  {
   "cell_type": "code",
   "execution_count": 22,
   "id": "1df1f03f",
   "metadata": {},
   "outputs": [],
   "source": [
    "X_train_numpy = X_train_norm.to_numpy()\n",
    "X_train_numpy = np.c_[np.ones((X_train_numpy.shape[0], 1)), X_train_numpy]\n",
    "\n",
    "y_train_numpy = y_train.to_numpy()\n",
    "\n",
    "my_model = np.linalg.inv(X_train_numpy.T @ X_train_numpy)@X_train_numpy.T @ y_train_numpy\n",
    "\n"
   ]
  },
  {
   "cell_type": "markdown",
   "id": "dd7ea348",
   "metadata": {},
   "source": [
    "## Predict the test-data"
   ]
  },
  {
   "cell_type": "code",
   "execution_count": 28,
   "id": "9fd96d97",
   "metadata": {},
   "outputs": [],
   "source": [
    "X_test_numpy = X_test_norm.to_numpy()\n",
    "X_test_numpy = np.c_[np.ones((X_test_numpy.shape[0], 1)), X_test_numpy]\n",
    "\n",
    "y_test_numpy = y_test.to_numpy()\n",
    "\n",
    "y_hat_numpy = X_test_numpy @ my_model"
   ]
  },
  {
   "cell_type": "markdown",
   "id": "addcb41e",
   "metadata": {},
   "source": [
    "## Accuracy of the model"
   ]
  },
  {
   "cell_type": "code",
   "execution_count": 29,
   "id": "a7a4a241",
   "metadata": {},
   "outputs": [
    {
     "name": "stdout",
     "output_type": "stream",
     "text": [
      "R-squared : 0.24\n",
      "RMSE : 0.66\n"
     ]
    }
   ],
   "source": [
    "y_test_mean = y_test_numpy.mean()\n",
    "\n",
    "SSR = np.sum((y_test_numpy - y_hat_numpy)**2)\n",
    "SST = np.sum((y_test_numpy - y_test_mean)**2)\n",
    "\n",
    "R2 = 1 - (SSR/SST)\n",
    "print(f\"R-squared : {R2:.2f}\")\n",
    "\n",
    "RMSE = np.sqrt(SSR/y_test.shape[0])\n",
    "print(f\"RMSE : {RMSE:.2f}\")\n"
   ]
  }
 ],
 "metadata": {
  "kernelspec": {
   "display_name": "maths",
   "language": "python",
   "name": "python3"
  },
  "language_info": {
   "codemirror_mode": {
    "name": "ipython",
    "version": 3
   },
   "file_extension": ".py",
   "mimetype": "text/x-python",
   "name": "python",
   "nbconvert_exporter": "python",
   "pygments_lexer": "ipython3",
   "version": "3.13.5"
  }
 },
 "nbformat": 4,
 "nbformat_minor": 5
}
